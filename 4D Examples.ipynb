{
 "cells": [
  {
   "cell_type": "markdown",
   "metadata": {},
   "source": [
    "# 4D Examples\n",
    "These are the 4D examples used in the paper. There be dragons here, a lot of this code can take hours/days to compute. However, one it has been run, the resulting evaluation code is quite fast. Again, setup the context:"
   ]
  },
  {
   "cell_type": "code",
   "execution_count": 1,
   "metadata": {},
   "outputs": [],
   "source": [
    "import llvmlite.ir as ll\n",
    "import llvmlite.binding as llvm\n",
    "from ctypes import CFUNCTYPE, c_int, c_float\n",
    "import ctypes\n",
    "\n",
    "load('helpers.sage')\n",
    "load('boxspline.sage')\n",
    "load('lattice.sage')\n",
    "load('splinespace.sage')\n",
    "load('codegen.sage')\n",
    "load('horner.sage')\n",
    "\n",
    "# Setup the LLVM context\n",
    "llvm.initialize()\n",
    "llvm.initialize_native_target()\n",
    "llvm.initialize_native_asmprinter()\n"
   ]
  },
  {
   "cell_type": "code",
   "execution_count": 2,
   "metadata": {},
   "outputs": [],
   "source": [
    "# Define the lattices we care about\n",
    "D4 = matrix(ZZ,[\n",
    "       [-1, 0, 0, 0],\n",
    "       [ 1, 0,-1,-1],\n",
    "       [ 0,-1, 0, 1],\n",
    "       [ 0,-1, 1, 0]\n",
    "    ])\n",
    "\n",
    "D4s = matrix(ZZ,[\n",
    "        (2,0,0,1),\n",
    "        (0,2,0,1),\n",
    "        (0,0,2,1),\n",
    "        (0,0,0,1)\n",
    "    ])\n",
    "\n",
    "D4 = IntegerLattice(D4)\n",
    "D4s = IntegerLattice(D4s)"
   ]
  },
  {
   "cell_type": "markdown",
   "metadata": {},
   "source": [
    "Let's take a look at the coset structure of these lattices. The $\\mathcal{D}_4^*$ lattice has structure similar to the BCC lattice, that is, it is comprised of two interleaved Cartesian cosets, scaled by 2, with one shifted by (1,1,...,1)."
   ]
  },
  {
   "cell_type": "code",
   "execution_count": 3,
   "metadata": {},
   "outputs": [
    {
     "name": "stdout",
     "output_type": "stream",
     "text": [
      "Cartesian coset scale:\n",
      "[2 0 0 0]\n",
      "[0 2 0 0]\n",
      "[0 0 2 0]\n",
      "[0 0 0 2]\n",
      "Coset shifts: [(0, 0, 0, 0), (1, 1, 1, 1)]\n"
     ]
    }
   ],
   "source": [
    "scale, shifts = D4s.coset_structure()\n",
    "\n",
    "print(\"Cartesian coset scale:\\n%s\" % scale)\n",
    "print(\"Coset shifts: %s\" % shifts)"
   ]
  },
  {
   "cell_type": "markdown",
   "metadata": {},
   "source": [
    "The structure of the $\\mathcal{D}_4$ lattice is more similar to the FCC lattice. It's also comprised of a set of cartesian lattices (scaled by 2) but contains 8 cosets (each at the center of the 2-facets of the 4d hyper cube)"
   ]
  },
  {
   "cell_type": "code",
   "execution_count": 4,
   "metadata": {},
   "outputs": [
    {
     "name": "stdout",
     "output_type": "stream",
     "text": [
      "Cartesian coset scale:\n",
      "[2 0 0 0]\n",
      "[0 2 0 0]\n",
      "[0 0 2 0]\n",
      "[0 0 0 2]\n",
      "Coset shifts: [(0, 0, 0, 0), (0, 0, 1, 1), (0, 1, 0, 1), (0, 1, 1, 0), (1, 0, 0, 1), (1, 0, 1, 0), (1, 1, 0, 0), (1, 1, 1, 1)]\n"
     ]
    }
   ],
   "source": [
    "scale, shifts = D4.coset_structure()\n",
    "\n",
    "print(\"Cartesian coset scale:\\n%s\" % scale)\n",
    "print(\"Coset shifts: %s\" % shifts)"
   ]
  },
  {
   "cell_type": "markdown",
   "metadata": {},
   "source": [
    "The splines listed in the paper \"Symmetric Box Splines on Root Lattices\" would be appropriate here, but they contain quite a few direction vectors that make them somewhat impractical to use in this instance. Instead, I define the following spline, which is somewhat of a cut-down version of one of the splines in that paper --- it only has 8 direction vectors, but is symmetric and works on both the $\\mathcal{D}_4$ and $\\mathcal{D}_4^*$ lattices. First we try to load it from the cache, if that fails, then we'll compute and cache it."
   ]
  },
  {
   "cell_type": "code",
   "execution_count": 5,
   "metadata": {},
   "outputs": [],
   "source": [
    "try:\n",
    "    bs = load('cache/bs-4dim-8dir')\n",
    "except:\n",
    "    bs = BoxSpline(\n",
    "        [(1, 1, 1, 1),\n",
    "         (1, 1, -1, 1),\n",
    "         (1, -1, 1, 1),\n",
    "         (1, -1, -1, 1),\n",
    "         (-1, 1, 1, 1),\n",
    "         (-1, 1, -1, 1),\n",
    "         (-1, -1, 1, 1),\n",
    "         (-1, -1, -1, 1)])\n",
    "    # Computation of the explicit form is lazy, so \n",
    "    # we have to call this method to explicitly compute\n",
    "    # the pp form before caching the spline\n",
    "    _ = bs.get_pp_regions()\n",
    "    save(bs, 'cache/bs-4dim-8dir')"
   ]
  },
  {
   "cell_type": "markdown",
   "metadata": {},
   "source": [
    "Now that we have a valid spline (I didn't verify that it's valid, but it's relatively easy to do so) we can combine this with the above lattices) we start with the $\\mathcal{D}_4^*$ lattice. We pass the ```cache_id``` parameter to the SplineSpace constructor in order to cache preliminary results during computation --- there's a good chance you'll run out of system memory while this next operation is in progress (even with 64GB of system memory, this happens to me); it seems as if there's a consistent memory leak in Sage. To avoid the leak, we reload intermediate results from the cache, which avoids the computations that leak memory. Not a perfect solution, but it does work. Again, expect this to take about a day or two to compute."
   ]
  },
  {
   "cell_type": "code",
   "execution_count": null,
   "metadata": {},
   "outputs": [
    {
     "name": "stdout",
     "output_type": "stream",
     "text": [
      "Builing region of evaluation... done!\n",
      "Loading symmetry from cache...Ok!\n"
     ]
    }
   ],
   "source": [
    "d4s_ss = SplineSpace(bs, D4s, cache_id = \"d4s_8dir\")"
   ]
  },
  {
   "cell_type": "code",
   "execution_count": null,
   "metadata": {},
   "outputs": [],
   "source": [
    "ecg = EvalCodeGen(d4s_ss,  target_triple=llvm.get_default_triple())\n",
    "l = ecg.llvm_generate()\n",
    "with open('cache/d4s_8dir.ll','w') as output:\n",
    "    output.write(l.encode())"
   ]
  },
  {
   "cell_type": "markdown",
   "metadata": {},
   "source": [
    "Do the same on the $\\mathcal{D}_4$ lattice. Again, expect this to take 1-2 days (also, may possibly crash during computation)"
   ]
  },
  {
   "cell_type": "code",
   "execution_count": null,
   "metadata": {},
   "outputs": [],
   "source": [
    "d4_ss = SplineSpace(bs, D4, cache_id = \"d4_8dir\")"
   ]
  },
  {
   "cell_type": "code",
   "execution_count": null,
   "metadata": {},
   "outputs": [],
   "source": [
    "ecg = EvalCodeGen(d4_ss,  target_triple=llvm.get_default_triple())\n",
    "l = ecg.llvm_generate()\n",
    "with open('cache/d4_8dir.ll','w') as output:\n",
    "    output.write(l.encode())"
   ]
  },
  {
   "cell_type": "markdown",
   "metadata": {},
   "source": [
    "And that's it, you should have the interpolation code in the cache directory. For completeness, below I've included the quasi-interpolants used in the paper."
   ]
  },
  {
   "cell_type": "code",
   "execution_count": null,
   "metadata": {},
   "outputs": [],
   "source": [
    "d4s_quasi = [((-8, 0, 0, 0), -1/96),\n",
    "             ((0, -8, 0, 0), -1/96),\n",
    "             ((0, 0, -8, 0), -1/96),\n",
    "             ((0, 0, 0, -8), -1/96),\n",
    "             ((0, 0, 0, 8), -1/96),\n",
    "             ((0, 0, 8, 0), -1/96),\n",
    "             ((0, 8, 0, 0), -1/96),\n",
    "             ((8, 0, 0, 0), -1/96),\n",
    "             ((-4, -4, 0, 0), 1/288),\n",
    "             ((-4, 0, -4, 0), 1/288),\n",
    "             ((-4, 0, 0, -4), 1/288),\n",
    "             ((-4, 0, 0, 4), 1/288),\n",
    "             ((-4, 0, 4, 0), 1/288),\n",
    "             ((-4, 4, 0, 0), 1/288),\n",
    "             ((0, -4, -4, 0), 1/288),\n",
    "             ((0, -4, 0, -4), 1/288),\n",
    "             ((0, -4, 0, 4), 1/288),\n",
    "             ((0, -4, 4, 0), 1/288),\n",
    "             ((0, 0, -4, -4), 1/288),\n",
    "             ((0, 0, -4, 4), 1/288),\n",
    "             ((0, 0, 4, -4), 1/288),\n",
    "             ((0, 0, 4, 4), 1/288),\n",
    "             ((0, 4, -4, 0), 1/288),\n",
    "             ((0, 4, 0, -4), 1/288),\n",
    "             ((0, 4, 0, 4), 1/288),\n",
    "             ((0, 4, 4, 0), 1/288),\n",
    "             ((4, -4, 0, 0), 1/288),\n",
    "             ((4, 0, -4, 0), 1/288),\n",
    "             ((4, 0, 0, -4), 1/288),\n",
    "             ((4, 0, 0, 4), 1/288),\n",
    "             ((4, 0, 4, 0), 1/288),\n",
    "             ((4, 4, 0, 0), 1/288),\n",
    "             ((0, 0, 0, 0), 1)]\n",
    "             \n",
    "d4_quasi =  [((0, 0, 0, 0), 7/3),\n",
    "             ((-1, -1, 0, 0), -1/18),\n",
    "             ((-1, 0, -1, 0), -1/18),\n",
    "             ((-1, 0, 0, -1), -1/18),\n",
    "             ((-1, 0, 0, 1), -1/18),\n",
    "             ((-1, 0, 1, 0), -1/18),\n",
    "             ((-1, 1, 0, 0), -1/18),\n",
    "             ((0, -1, -1, 0), -1/18),\n",
    "             ((0, -1, 0, -1), -1/18),\n",
    "             ((0, -1, 0, 1), -1/18),\n",
    "             ((0, -1, 1, 0), -1/18),\n",
    "             ((0, 0, -1, -1), -1/18),\n",
    "             ((0, 0, -1, 1), -1/18),\n",
    "             ((0, 0, 1, -1), -1/18),\n",
    "             ((0, 0, 1, 1), -1/18),\n",
    "             ((0, 1, -1, 0), -1/18),\n",
    "             ((0, 1, 0, -1), -1/18),\n",
    "             ((0, 1, 0, 1), -1/18),\n",
    "             ((0, 1, 1, 0), -1/18),\n",
    "             ((1, -1, 0, 0), -1/18),\n",
    "             ((1, 0, -1, 0), -1/18),\n",
    "             ((1, 0, 0, -1), -1/18),\n",
    "             ((1, 0, 0, 1), -1/18),\n",
    "             ((1, 0, 1, 0), -1/18),\n",
    "             ((1, 1, 0, 0), -1/18)]\n",
    "\n",
    "c4_quasi = [((-1, -1, -1, -1), 1/1296),\n",
    "             ((-1, -1, -1, 0), -1/162),\n",
    "             ((-1, -1, -1, 1), 1/1296),\n",
    "             ((-1, -1, 0, -1), -1/162),\n",
    "             ((-1, -1, 0, 0), 4/81),\n",
    "             ((-1, -1, 0, 1), -1/162),\n",
    "             ((-1, -1, 1, -1), 1/1296),\n",
    "             ((-1, -1, 1, 0), -1/162),\n",
    "             ((-1, -1, 1, 1), 1/1296),\n",
    "             ((-1, 0, -1, -1), -1/162),\n",
    "             ((-1, 0, -1, 0), 4/81),\n",
    "             ((-1, 0, -1, 1), -1/162),\n",
    "             ((-1, 0, 0, -1), 4/81),\n",
    "             ((-1, 0, 0, 0), -32/81),\n",
    "             ((-1, 0, 0, 1), 4/81),\n",
    "             ((-1, 0, 1, -1), -1/162),\n",
    "             ((-1, 0, 1, 0), 4/81),\n",
    "             ((-1, 0, 1, 1), -1/162),\n",
    "             ((-1, 1, -1, -1), 1/1296),\n",
    "             ((-1, 1, -1, 0), -1/162),\n",
    "             ((-1, 1, -1, 1), 1/1296),\n",
    "             ((-1, 1, 0, -1), -1/162),\n",
    "             ((-1, 1, 0, 0), 4/81),\n",
    "             ((-1, 1, 0, 1), -1/162),\n",
    "             ((-1, 1, 1, -1), 1/1296),\n",
    "             ((-1, 1, 1, 0), -1/162),\n",
    "             ((-1, 1, 1, 1), 1/1296),\n",
    "             ((0, -1, -1, -1), -1/162),\n",
    "             ((0, -1, -1, 0), 4/81),\n",
    "             ((0, -1, -1, 1), -1/162),\n",
    "             ((0, -1, 0, -1), 4/81),\n",
    "             ((0, -1, 0, 0), -32/81),\n",
    "             ((0, -1, 0, 1), 4/81),\n",
    "             ((0, -1, 1, -1), -1/162),\n",
    "             ((0, -1, 1, 0), 4/81),\n",
    "             ((0, -1, 1, 1), -1/162),\n",
    "             ((0, 0, -1, -1), 4/81),\n",
    "             ((0, 0, -1, 0), -32/81),\n",
    "             ((0, 0, -1, 1), 4/81),\n",
    "             ((0, 0, 0, -1), -32/81),\n",
    "             ((0, 0, 0, 0), 256/81),\n",
    "             ((0, 0, 0, 1), -32/81),\n",
    "             ((0, 0, 1, -1), 4/81),\n",
    "             ((0, 0, 1, 0), -32/81),\n",
    "             ((0, 0, 1, 1), 4/81),\n",
    "             ((0, 1, -1, -1), -1/162),\n",
    "             ((0, 1, -1, 0), 4/81),\n",
    "             ((0, 1, -1, 1), -1/162),\n",
    "             ((0, 1, 0, -1), 4/81),\n",
    "             ((0, 1, 0, 0), -32/81),\n",
    "             ((0, 1, 0, 1), 4/81),\n",
    "             ((0, 1, 1, -1), -1/162),\n",
    "             ((0, 1, 1, 0), 4/81),\n",
    "             ((0, 1, 1, 1), -1/162),\n",
    "             ((1, -1, -1, -1), 1/1296),\n",
    "             ((1, -1, -1, 0), -1/162),\n",
    "             ((1, -1, -1, 1), 1/1296),\n",
    "             ((1, -1, 0, -1), -1/162),\n",
    "             ((1, -1, 0, 0), 4/81),\n",
    "             ((1, -1, 0, 1), -1/162),\n",
    "             ((1, -1, 1, -1), 1/1296),\n",
    "             ((1, -1, 1, 0), -1/162),\n",
    "             ((1, -1, 1, 1), 1/1296),\n",
    "             ((1, 0, -1, -1), -1/162),\n",
    "             ((1, 0, -1, 0), 4/81),\n",
    "             ((1, 0, -1, 1), -1/162),\n",
    "             ((1, 0, 0, -1), 4/81),\n",
    "             ((1, 0, 0, 0), -32/81),\n",
    "             ((1, 0, 0, 1), 4/81),\n",
    "             ((1, 0, 1, -1), -1/162),\n",
    "             ((1, 0, 1, 0), 4/81),\n",
    "             ((1, 0, 1, 1), -1/162),\n",
    "             ((1, 1, -1, -1), 1/1296),\n",
    "             ((1, 1, -1, 0), -1/162),\n",
    "             ((1, 1, -1, 1), 1/1296),\n",
    "             ((1, 1, 0, -1), -1/162),\n",
    "             ((1, 1, 0, 0), 4/81),\n",
    "             ((1, 1, 0, 1), -1/162),\n",
    "             ((1, 1, 1, -1), 1/1296),\n",
    "             ((1, 1, 1, 0), -1/162),\n",
    "             ((1, 1, 1, 1), 1/1296)\n",
    "           ]"
   ]
  }
 ],
 "metadata": {
  "kernelspec": {
   "display_name": "SageMath 9.2",
   "language": "sage",
   "name": "sagemath"
  },
  "language_info": {
   "codemirror_mode": {
    "name": "ipython",
    "version": 3
   },
   "file_extension": ".py",
   "mimetype": "text/x-python",
   "name": "python",
   "nbconvert_exporter": "python",
   "pygments_lexer": "ipython3",
   "version": "3.8.5"
  }
 },
 "nbformat": 4,
 "nbformat_minor": 4
}
