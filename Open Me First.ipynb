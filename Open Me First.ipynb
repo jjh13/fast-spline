{
 "cells": [
  {
   "cell_type": "markdown",
   "metadata": {},
   "source": [
    "## First time setup\n",
    "Please also read the README.md if you haven't already. Firstly, a little setup is required for code generation --- we need llvmlite, which doesn't come with the sage environment. Fortunately it's very easy to install, just run the next cell."
   ]
  },
  {
   "cell_type": "code",
   "execution_count": 1,
   "metadata": {},
   "outputs": [
    {
     "name": "stdout",
     "output_type": "stream",
     "text": [
      "Requirement already satisfied: llvmlite in /mnt/home/john/SageMath/local/lib/python3.8/site-packages (0.35.0)\n",
      "\u001b[33mWARNING: You are using pip version 20.2.3; however, version 20.3.3 is available.\n",
      "You should consider upgrading via the '/mnt/home/john/SageMath/local/bin/python3 -m pip install --upgrade pip' command.\u001b[0m\n"
     ]
    }
   ],
   "source": [
    "import sys\n",
    "!{sys.executable} -m pip install llvmlite"
   ]
  },
  {
   "cell_type": "markdown",
   "metadata": {},
   "source": [
    "## Read and cache voronoi splines\n",
    "Check the README.md in the voronoi directory for information on why we have to do this. Basically, these take a long time to compute, so we load in a precomputed version, and cache it in a format that sage can easily read."
   ]
  },
  {
   "cell_type": "code",
   "execution_count": 2,
   "metadata": {},
   "outputs": [],
   "source": [
    "x_0,x_1,x_2 = var('x_0,x_1,x_2')\n",
    "def read_vs(spline_in):\n",
    "    vs = []\n",
    "    with open(spline_in, 'r') as fin:\n",
    "        for verts in fin:\n",
    "            verts = sage_eval(verts)\n",
    "            pp = sage_eval(fin.readline(), locals={'x_0':x_0, 'x_1':x_1, 'x_2':x_2})\n",
    "            vs += [(Polyhedron(vertices=verts),pp)]\n",
    "    return vs\n",
    "\n",
    "try: \n",
    "    os.mkdir('cache')\n",
    "except:\n",
    "    pass \n",
    "\n",
    "for vs in ['bcc2', 'bcc3', 'bcc4', 'fcc2', 'fcc3', 'fcc4']:\n",
    "    spline = read_vs('voronoi/%s.txt' % vs)\n",
    "    save(spline, 'cache/%s' % vs)"
   ]
  },
  {
   "cell_type": "code",
   "execution_count": null,
   "metadata": {},
   "outputs": [],
   "source": []
  }
 ],
 "metadata": {
  "kernelspec": {
   "display_name": "SageMath 9.2",
   "language": "sage",
   "name": "sagemath"
  },
  "language_info": {
   "codemirror_mode": {
    "name": "ipython",
    "version": 3
   },
   "file_extension": ".py",
   "mimetype": "text/x-python",
   "name": "python",
   "nbconvert_exporter": "python",
   "pygments_lexer": "ipython3",
   "version": "3.8.5"
  }
 },
 "nbformat": 4,
 "nbformat_minor": 4
}
